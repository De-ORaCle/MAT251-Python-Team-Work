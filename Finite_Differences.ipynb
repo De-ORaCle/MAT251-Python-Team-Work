{
  "nbformat": 4,
  "nbformat_minor": 0,
  "metadata": {
    "colab": {
      "provenance": [],
      "authorship_tag": "ABX9TyOZI85qfF3rgwzgq9g9UOMv",
      "include_colab_link": true
    },
    "kernelspec": {
      "name": "python3",
      "display_name": "Python 3"
    },
    "language_info": {
      "name": "python"
    }
  },
  "cells": [
    {
      "cell_type": "markdown",
      "metadata": {
        "id": "view-in-github",
        "colab_type": "text"
      },
      "source": [
        "<a href=\"https://colab.research.google.com/github/De-ORaCle/MAT251-Python-Team-Work/blob/main/Finite_Differences.ipynb\" target=\"_parent\"><img src=\"https://colab.research.google.com/assets/colab-badge.svg\" alt=\"Open In Colab\"/></a>"
      ]
    },
    {
      "cell_type": "code",
      "source": [
        "import numpy as np"
      ],
      "metadata": {
        "id": "z6NXhEt672hH"
      },
      "execution_count": null,
      "outputs": []
    },
    {
      "cell_type": "markdown",
      "source": [
        "Working on the first table in the slide to find dy3 and dddy2"
      ],
      "metadata": {
        "id": "8AtNlXQobNx2"
      }
    },
    {
      "cell_type": "code",
      "source": [
        "x0 = float(input(\"x0= \"))\n",
        "x1 = float(input(\"x1= \"))\n",
        "x2 = float(input(\"x2= \"))\n",
        "x3 = float(input(\"x3= \"))\n",
        "x4 = float(input(\"x4= \"))\n",
        "x5 = float(input(\"x5= \"))\n",
        "x6 = float(input(\"x6= \"))\n",
        "x7 = float(input(\"x7= \"))\n",
        "x8 = float(input(\"x8= \"))\n",
        "x9 = float(input(\"x9= \"))\n",
        "x10 = float(input(\"x10= \"))"
      ],
      "metadata": {
        "id": "lRqP0d6f7k10"
      },
      "execution_count": null,
      "outputs": []
    },
    {
      "cell_type": "code",
      "source": [
        "y0 = float(input(\"y0= \"))\n",
        "y1 = float(input(\"y1= \"))\n",
        "y2 = float(input(\"y2= \"))\n",
        "y3 = float(input(\"y3= \"))\n",
        "y4 = float(input(\"y4= \"))\n",
        "y5 = float(input(\"y5= \"))\n",
        "y6 = float(input(\"y6= \"))\n",
        "y7 = float(input(\"y7= \"))\n",
        "y8 = float(input(\"y8= \"))\n",
        "y9 = float(input(\"y9= \"))\n",
        "y10 = float(input(\"y10= \"))"
      ],
      "metadata": {
        "id": "sFTmvas-7nQj"
      },
      "execution_count": null,
      "outputs": []
    },
    {
      "cell_type": "code",
      "source": [
        "dy = np.array([(y1-y0), (y2-y1), (y3-y2), (y4-y3), (y5-y4), (y6-y5), (y7-y6), (y8-y7), (y9-y8), (y10-y9)])\n",
        "print(dy)\n",
        "\n",
        "\n",
        "ddy = np.array([(dy[1]-dy[0]), (dy[2]-dy[1]), (dy[3]-dy[2]), (dy[4]-dy[3]), (dy[5]-dy[4]), (dy[6]-dy[5]), (dy[7]-dy[6]), (dy[8]-dy[7]), (dy[9]-dy[8])])\n",
        "print(ddy)\n",
        "\n",
        "dddy = np.array([(ddy[1]-ddy[0]), (ddy[2]-ddy[1]), (ddy[3]-ddy[2]), (ddy[4]-ddy[3]), (ddy[5]-ddy[4]), (ddy[6]-ddy[5]), (ddy[7]-ddy[6]), (ddy[8]-ddy[7])])\n",
        "print(dddy)\n",
        "\n",
        "ddddy = np.array([(dddy[1]-dddy[0]), (dddy[2]-dddy[1]), (dddy[3]-dddy[2]), (dddy[4]-dddy[3]), (dddy[5]-dddy[4]), (dddy[6]-dddy[5]), (dddy[7]-dddy[6])])\n",
        "print(ddddy)\n",
        "\n",
        "dddddy = np.array([(ddddy[1]-ddddy[0]), (ddddy[2]-ddddy[1]), (ddddy[3]-ddddy[2]), (ddddy[4]-ddddy[3]), (ddddy[5]-ddddy[4]), (ddddy[6]-ddddy[5])])\n",
        "print(dddddy)"
      ],
      "metadata": {
        "colab": {
          "base_uri": "https://localhost:8080/"
        },
        "id": "MpJa9vzi7tCU",
        "outputId": "e3efbd6a-9ecb-4496-9c1e-8903b207e8bb"
      },
      "execution_count": null,
      "outputs": [
        {
          "output_type": "stream",
          "name": "stdout",
          "text": [
            "[0.5 0.4 0.7 0.5 0.7 0.7 0.5 0.6 0.6 0.8]\n",
            "[-1.0000000e-01  3.0000000e-01 -2.0000000e-01  2.0000000e-01\n",
            "  0.0000000e+00 -2.0000000e-01  1.0000000e-01  8.8817842e-16\n",
            "  2.0000000e-01]\n",
            "[ 0.4 -0.5  0.4 -0.2 -0.2  0.3 -0.1  0.2]\n",
            "[-9.0000000e-01  9.0000000e-01 -6.0000000e-01  4.4408921e-16\n",
            "  5.0000000e-01 -4.0000000e-01  3.0000000e-01]\n",
            "[ 1.8 -1.5  0.6  0.5 -0.9  0.7]\n"
          ]
        }
      ]
    },
    {
      "cell_type": "code",
      "source": [
        "# Forward difference examples\n"
      ],
      "metadata": {
        "id": "3jFfdFkTanHi"
      },
      "execution_count": null,
      "outputs": []
    },
    {
      "cell_type": "code",
      "source": [
        "# stating_the_equation\n",
        "# equation = input(\"State your equation in terms of x: \")"
      ],
      "metadata": {
        "id": "5dAokE0Botoe"
      },
      "execution_count": null,
      "outputs": []
    }
  ]
}